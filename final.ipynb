{
 "cells": [
  {
   "cell_type": "code",
   "execution_count": 1,
   "metadata": {},
   "outputs": [],
   "source": [
    "import tensorflow as tf\n",
    "from keras.preprocessing.image import ImageDataGenerator\n",
    "import cv2\n",
    "import imutils\n",
    "import matplotlib.pyplot as plt\n",
    "from os import listdir\n",
    "import time    \n",
    "\n",
    "%matplotlib inline"
   ]
  },
  {
   "cell_type": "code",
   "execution_count": 2,
   "metadata": {},
   "outputs": [],
   "source": [
    "def augmented_data(file_dir,n_generated_sample,save_to_dir):\n",
    "    \n",
    "    data_gen= ImageDataGenerator(rotation_range=20,\n",
    "                              width_shift_range=0.1,\n",
    "                              height_shift_range=0.1,\n",
    "                              shear_range=0.1,\n",
    "                              brightness_range=(0.3, 1.0),\n",
    "                              horizontal_flip=True,\n",
    "                              vertical_flip=True,\n",
    "                              fill_mode='nearest'\n",
    "                                )\n",
    "    \n",
    "    for filename in os.listdir(file_dir):\n",
    "        \n",
    "            image=cv2.imread(file_dir + '\\\\'+ filename) # change the file / to \\\\\n",
    "            \n",
    "            image=image.reshape((1,)+ image.shape)\n",
    "            \n",
    "            save_prefix='aug_'+ filename[:4]\n",
    "            \n",
    "            i=0\n",
    "            for batch in data_gen.flow(x=image,batch_size=1,save_to_dir=save_to_dir,\n",
    "                                      save_prefix=save_prefix,save_format='jpg'):\n",
    "                i+=1\n",
    "                if i>n_generated_sample:\n",
    "                    break"
   ]
  },
  {
   "cell_type": "code",
   "execution_count": 6,
   "metadata": {},
   "outputs": [],
   "source": [
    "from os import listdir\n",
    "import os\n",
    "\n",
    "yes_path = r\"C:\\Users\\shiva\\Desktop\\Data_Augmentation\\archive\\yes\"\n",
    "no_path = r\"C:\\Users\\shiva\\Desktop\\Data_Augmentation\\archive\\no\"\n",
    "\n",
    "final_augmented_data_path = r'C:\\Users\\shiva\\Desktop\\Data_Augmentation\\archive\\final_augmented_data_path/'\n",
    "\n",
    "augmented_data(file_dir=yes_path, n_generated_sample=6, save_to_dir=final_augmented_data_path + 'yes')\n",
    "\n",
    "augmented_data(file_dir=no_path, n_generated_sample=9, save_to_dir=final_augmented_data_path + 'no')"
   ]
  },
  {
   "cell_type": "code",
   "execution_count": 7,
   "metadata": {},
   "outputs": [],
   "source": [
    "import os\n",
    "\n",
    "# Check if directory exists, create if it doesn't\n",
    "if not os.path.exists(final_augmented_data_path + 'yes'):\n",
    "    os.makedirs(final_augmented_data_path + 'yes')\n",
    "    \n",
    "\n",
    "# Check if directory exists, create if it doesn't\n",
    "if not os.path.exists(final_augmented_data_path + 'no'):\n",
    "    os.makedirs(final_augmented_data_path + 'no')"
   ]
  },
  {
   "cell_type": "code",
   "execution_count": 8,
   "metadata": {},
   "outputs": [
    {
     "name": "stdout",
     "output_type": "stream",
     "text": [
      "Save Path: C:\\Users\\shiva\\Desktop\\Data_Augmentation\\archive\\final_augmented_data_path/yes\n",
      "Save Path: C:\\Users\\shiva\\Desktop\\Data_Augmentation\\archive\\final_augmented_data_path/no\n"
     ]
    }
   ],
   "source": [
    "save_path = final_augmented_data_path + 'yes'\n",
    "print(\"Save Path:\", save_path)\n",
    "\n",
    "save_path = final_augmented_data_path + 'no'\n",
    "print(\"Save Path:\", save_path)"
   ]
  },
  {
   "cell_type": "code",
   "execution_count": 11,
   "metadata": {},
   "outputs": [],
   "source": [
    "def data_summary(main_path):\n",
    "    \n",
    "    yes_path = main_path+'yes'\n",
    "    no_path = main_path+'no'\n",
    "        \n",
    "    # number of files (images) that are in the the folder named 'yes' that represent tumorous (positive) examples\n",
    "    m_pos = len(listdir(yes_path))\n",
    "    # number of files (images) that are in the the folder named 'no' that represent non-tumorous (negative) examples\n",
    "    m_neg = len(listdir(no_path))\n",
    "    # number of all examples\n",
    "    m = (m_pos+m_neg)\n",
    "    \n",
    "    pos_prec = (m_pos* 100.0)/ m\n",
    "    neg_prec = (m_neg* 100.0)/ m\n",
    "    \n",
    "    print(f\"Number of examples: {m}\")\n",
    "    print(f\"Percentage of positive examples: {pos_prec}%, number of pos examples: {m_pos}\") \n",
    "    print(f\"Percentage of negative examples: {neg_prec}%, number of neg examples: {m_neg}\") "
   ]
  },
  {
   "cell_type": "code",
   "execution_count": 13,
   "metadata": {},
   "outputs": [
    {
     "name": "stdout",
     "output_type": "stream",
     "text": [
      "Number of examples: 2062\n",
      "Percentage of positive examples: 52.618816682832204%, number of pos examples: 1085\n",
      "Percentage of negative examples: 47.381183317167796%, number of neg examples: 977\n"
     ]
    }
   ],
   "source": [
    "data_summary(final_augmented_data_path)"
   ]
  },
  {
   "cell_type": "code",
   "execution_count": null,
   "metadata": {},
   "outputs": [],
   "source": []
  }
 ],
 "metadata": {
  "kernelspec": {
   "display_name": "Python 3",
   "language": "python",
   "name": "python3"
  },
  "language_info": {
   "codemirror_mode": {
    "name": "ipython",
    "version": 3
   },
   "file_extension": ".py",
   "mimetype": "text/x-python",
   "name": "python",
   "nbconvert_exporter": "python",
   "pygments_lexer": "ipython3",
   "version": "3.6.9"
  }
 },
 "nbformat": 4,
 "nbformat_minor": 4
}
